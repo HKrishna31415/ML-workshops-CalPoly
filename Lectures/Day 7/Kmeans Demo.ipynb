{
 "cells": [
  {
   "cell_type": "code",
   "execution_count": null,
   "metadata": {
    "collapsed": true
   },
   "outputs": [],
   "source": [
    "import numpy as np\n",
    "import matplotlib.pyplot as plt\n",
    "from collections import defaultdict\n",
    "from PIL import Image\n",
    "from scipy.misc import imread\n",
    "%matplotlib inline"
   ]
  },
  {
   "cell_type": "markdown",
   "metadata": {},
   "source": [
    "# Simple K-Means"
   ]
  },
  {
   "cell_type": "code",
   "execution_count": null,
   "metadata": {
    "collapsed": true
   },
   "outputs": [],
   "source": [
    "data = np.random.normal([3, 3], [4, 9], size=(40, 2))\n",
    "# data1 = np.random.normal([0, 3], [1, 1], size=(10, 2))\n",
    "# data2 = np.random.normal([3, 0], [1, 1], size=(10, 2))\n",
    "# data3 = np.random.normal([-3, 0], [1, 1], size=(10, 2))\n",
    "# data4 = np.random.normal([0, -3], [1, 1], size=(10, 2))\n",
    "# data = np.vstack((np.vstack((np.vstack((data1, data2)), data3)), data4))"
   ]
  },
  {
   "cell_type": "code",
   "execution_count": null,
   "metadata": {},
   "outputs": [],
   "source": [
    "plt.scatter(x=data[:,0], y=data[:,1])"
   ]
  },
  {
   "cell_type": "code",
   "execution_count": null,
   "metadata": {
    "collapsed": true
   },
   "outputs": [],
   "source": [
    "k = 4\n",
    "colors = ['red', 'green', 'blue', 'orange']"
   ]
  },
  {
   "cell_type": "code",
   "execution_count": null,
   "metadata": {
    "collapsed": true
   },
   "outputs": [],
   "source": [
    "k_data = defaultdict(list)\n",
    "for point in data:\n",
    "    i = np.random.randint(0, k)\n",
    "    k_data[i].append(point)\n",
    "for i in k_data:\n",
    "    k_data[i] = np.array(k_data[i])"
   ]
  },
  {
   "cell_type": "code",
   "execution_count": null,
   "metadata": {},
   "outputs": [],
   "source": [
    "for i in k_data:\n",
    "    plt.scatter(x=k_data[i][:,0], y=k_data[i][:,1], c=colors[i])"
   ]
  },
  {
   "cell_type": "code",
   "execution_count": null,
   "metadata": {
    "collapsed": true
   },
   "outputs": [],
   "source": [
    "k_means = np.array([k_data[i].mean(axis=0) for i in k_data])"
   ]
  },
  {
   "cell_type": "code",
   "execution_count": null,
   "metadata": {},
   "outputs": [],
   "source": [
    "for i in k_data:\n",
    "    plt.scatter(x=k_data[i][:,0], y=k_data[i][:,1], c=colors[i])\n",
    "    plt.scatter(x=k_means[i][0], y=k_means[i][1], marker='d', c=colors[i])"
   ]
  },
  {
   "cell_type": "code",
   "execution_count": null,
   "metadata": {
    "collapsed": true
   },
   "outputs": [],
   "source": [
    "def get_k_data(k_means):\n",
    "    k_data = defaultdict(lambda: [])\n",
    "    for point in data:\n",
    "        i = np.argmin([np.linalg.norm(point - k_mean) for k_mean in k_means])\n",
    "        k_data[i].append(point)\n",
    "    for i in k_data:\n",
    "        k_data[i] = np.array(k_data[i])\n",
    "    return k_data"
   ]
  },
  {
   "cell_type": "code",
   "execution_count": null,
   "metadata": {
    "collapsed": true
   },
   "outputs": [],
   "source": [
    "def get_k_means(k_data):\n",
    "    return np.array([k_data[i].mean(axis=0) for i in k_data])"
   ]
  },
  {
   "cell_type": "code",
   "execution_count": null,
   "metadata": {
    "collapsed": true
   },
   "outputs": [],
   "source": [
    "def plot(k_data, k_means):\n",
    "    for i in k_data:\n",
    "        plt.scatter(x=k_data[i][:,0], y=k_data[i][:,1], c=colors[i])\n",
    "        plt.scatter(x=k_means[i][0], y=k_means[i][1], marker='d', c=colors[i])"
   ]
  },
  {
   "cell_type": "code",
   "execution_count": null,
   "metadata": {},
   "outputs": [],
   "source": [
    "k_data = get_k_data(k_means)\n",
    "plot(k_data, k_means)"
   ]
  },
  {
   "cell_type": "code",
   "execution_count": null,
   "metadata": {},
   "outputs": [],
   "source": [
    "k_means = get_k_means(k_data)\n",
    "plot(k_data, k_means)"
   ]
  },
  {
   "cell_type": "code",
   "execution_count": null,
   "metadata": {},
   "outputs": [],
   "source": [
    "k_data = get_k_data(k_means)\n",
    "plot(k_data, k_means)"
   ]
  },
  {
   "cell_type": "code",
   "execution_count": null,
   "metadata": {
    "collapsed": true
   },
   "outputs": [],
   "source": [
    "for i in range(500):\n",
    "    k_means = get_k_means(k_data)\n",
    "    k_data = get_k_data(k_means)"
   ]
  },
  {
   "cell_type": "code",
   "execution_count": null,
   "metadata": {},
   "outputs": [],
   "source": [
    "plot(k_data, k_means)"
   ]
  },
  {
   "cell_type": "markdown",
   "metadata": {},
   "source": [
    "# Image Clustering"
   ]
  },
  {
   "cell_type": "code",
   "execution_count": null,
   "metadata": {},
   "outputs": [],
   "source": [
    "image_data = imread(\"flowers.jpg\")"
   ]
  },
  {
   "cell_type": "code",
   "execution_count": null,
   "metadata": {},
   "outputs": [],
   "source": [
    "Image.fromarray(image_data, 'RGB')"
   ]
  },
  {
   "cell_type": "code",
   "execution_count": null,
   "metadata": {
    "collapsed": true
   },
   "outputs": [],
   "source": [
    "k = 10"
   ]
  },
  {
   "cell_type": "code",
   "execution_count": null,
   "metadata": {},
   "outputs": [],
   "source": [
    "pixel_clusters = np.random.randint(0, high=k, size=(image_data.shape[0], image_data.shape[1]))"
   ]
  },
  {
   "cell_type": "code",
   "execution_count": null,
   "metadata": {},
   "outputs": [],
   "source": [
    "cluster_centers = np.array([image_data[pixel_clusters == i].mean(axis=0) for i in range(k)])"
   ]
  },
  {
   "cell_type": "code",
   "execution_count": null,
   "metadata": {},
   "outputs": [],
   "source": [
    "for i in range(image_data.shape[0]):\n",
    "    for j in range(image_data.shape[1]):\n",
    "        pixel_clusters[i][j] = np.argmin(np.linalg.norm(cluster_centers - image_data[i][j],axis=1))"
   ]
  },
  {
   "cell_type": "code",
   "execution_count": null,
   "metadata": {},
   "outputs": [],
   "source": [
    "for z in range(5):\n",
    "    for i in range(k):\n",
    "        data_points = image_data[pixel_clusters == i]\n",
    "        cluster_centers[i] = data_points.mean(axis=0) if data_points.size > 0 else np.random.rand(3) * 255\n",
    "    for i in range(image_data.shape[0]):\n",
    "        for j in range(image_data.shape[1]):\n",
    "            pixel_clusters[i][j] = np.argmin(np.linalg.norm(cluster_centers - image_data[i][j], axis=1))"
   ]
  },
  {
   "cell_type": "code",
   "execution_count": null,
   "metadata": {},
   "outputs": [],
   "source": [
    "output_image = np.zeros(image_data.shape)\n",
    "for i in range(output_image.shape[0]):\n",
    "    for j in range(output_image.shape[1]):\n",
    "        output_image[i][j] = cluster_centers[pixel_clusters[i][j]]"
   ]
  },
  {
   "cell_type": "code",
   "execution_count": null,
   "metadata": {
    "scrolled": false
   },
   "outputs": [],
   "source": [
    "Image.fromarray(output_image.astype('uint8'), 'RGB')"
   ]
  }
 ],
 "metadata": {
  "kernelspec": {
   "display_name": "Python 3",
   "language": "python",
   "name": "python3"
  },
  "language_info": {
   "codemirror_mode": {
    "name": "ipython",
    "version": 3
   },
   "file_extension": ".py",
   "mimetype": "text/x-python",
   "name": "python",
   "nbconvert_exporter": "python",
   "pygments_lexer": "ipython3",
   "version": "3.5.2"
  }
 },
 "nbformat": 4,
 "nbformat_minor": 2
}
